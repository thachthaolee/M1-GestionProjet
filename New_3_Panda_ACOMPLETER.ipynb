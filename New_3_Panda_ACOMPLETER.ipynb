{
  "cells": [
    {
      "cell_type": "markdown",
      "metadata": {
        "id": "view-in-github",
        "colab_type": "text"
      },
      "source": [
        "<a href=\"https://colab.research.google.com/github/thachthaolee/M1-GestionProjet/blob/main/New_3_Panda_ACOMPLETER.ipynb\" target=\"_parent\"><img src=\"https://colab.research.google.com/assets/colab-badge.svg\" alt=\"Open In Colab\"/></a>"
      ]
    },
    {
      "cell_type": "markdown",
      "metadata": {
        "id": "k1v2TqiZhjwa"
      },
      "source": [
        "# Panda\n",
        "Avec  Numpy  et  Matplotlib, la librairie  [Pandas](https://pandas.pydata.org/)  fait partie des librairies de base pour la data science. \n",
        "Pandas fournit des structures de données puissantes et simples à utiliser, ainsi que les moyens d'opérer rapidement des opérations sur ces structures. "
      ]
    },
    {
      "cell_type": "markdown",
      "metadata": {
        "id": "6aT7p_OBhjwe"
      },
      "source": [
        "Imaginons que nous souhaitions représenter des pandas !\n",
        "Nous pouvons caractériser un panda par ses tailles de pattes, de longueur moyenne des poils de sa fourrure,  de queue, ainsi que le diamètre de son ventre.\n",
        "\n",
        "## 1. Représentation par un tableau numpy\n",
        "\n"
      ]
    },
    {
      "cell_type": "code",
      "execution_count": null,
      "metadata": {
        "id": "9-vOzk2Ehjwf"
      },
      "outputs": [],
      "source": [
        "import numpy as np\n",
        "un_panda_numpy = np.array([100,5,20,80])\n",
        "un_panda_numpy"
      ]
    },
    {
      "cell_type": "markdown",
      "metadata": {
        "id": "Ph3dWOAmhjwh"
      },
      "source": [
        "Ici, le panda a des pattes de 100cm, des poils de 5cm en moyenne, une queue de 20cm et un ventre de 80cm de diamètre.\n",
        "Pour représenter plusieurs pandas, on crée un tableau multi-dimensionnel  \n"
      ]
    },
    {
      "cell_type": "code",
      "execution_count": null,
      "metadata": {
        "id": "D67HyOcHhjwh"
      },
      "outputs": [],
      "source": [
        "famille_panda = [\n",
        "    [100, 5  , 20, 80], # maman panda\n",
        "    [50 , 2.5, 10, 40], # bébé panda\n",
        "    [110, 6  , 22, 80], # papa panda\n",
        "]\n",
        "famille_panda_numpy = np.array(famille_panda)\n",
        "famille_panda_numpy"
      ]
    },
    {
      "cell_type": "markdown",
      "metadata": {
        "id": "9EFXIWyNhjwi"
      },
      "source": [
        "Ici, nous avons créé une liste de pandas, c'est à dire une liste de listes.\n",
        "Le rang de famille_panda_numpy est de 2, car nous avons 2 niveaux d'imbrication.\n",
        "\n",
        "<span style=\"color:blue\">QUESTION :  Trouver l'instruction pour obtenir la taille des pattes  (situé en position 0 dans chaque liste qui décrit un panda) du 2e panda ? </span> <span style=\"color:red\">XXXXXXXX </span>\n",
        "\n"
      ]
    },
    {
      "cell_type": "code",
      "execution_count": null,
      "metadata": {
        "id": "I945Xifbhjwj"
      },
      "outputs": [],
      "source": []
    },
    {
      "cell_type": "markdown",
      "metadata": {
        "id": "lmMYxLHBhjwj"
      },
      "source": [
        "<span style=\"color:blue\"> QUESTION : Trouver l'instruction pour obtenir les tailles des pattes de toute la famille panda ?</span>\n",
        "<span style=\"color:red\">XXXXXXXX \n",
        " </span>\n"
      ]
    },
    {
      "cell_type": "code",
      "execution_count": null,
      "metadata": {
        "id": "3pJYLBm3hjwk"
      },
      "outputs": [],
      "source": []
    },
    {
      "cell_type": "markdown",
      "metadata": {
        "id": "H4MNIAn_hjwk"
      },
      "source": [
        "Il faut reconnaitre que cette écriture n'est pas très explicite ! Recommençons avec panda.\n",
        "\n",
        "\n",
        "## 2. Représentation avec la librairie Pandas\n",
        "\n",
        "Tout est une histoire de tableau !"
      ]
    },
    {
      "cell_type": "code",
      "execution_count": null,
      "metadata": {
        "id": "p4amV6Czhjwl"
      },
      "outputs": [],
      "source": [
        "famille_panda = [\n",
        "    [100, 5  , 20, 80],\n",
        "    [50 , 2.5, 10, 40],\n",
        "    [110, 6  , 22, 80],\n",
        "]"
      ]
    },
    {
      "cell_type": "markdown",
      "metadata": {
        "id": "Hr9Kc_ePhjwl"
      },
      "source": [
        "... ça ressemble un peu à un tableau avec des lignes et des colonnes ! \n"
      ]
    },
    {
      "cell_type": "code",
      "execution_count": null,
      "metadata": {
        "id": "xW3u5p5Qhjwm"
      },
      "outputs": [],
      "source": [
        "import pandas as pd\n",
        "famille_panda_df = pd.DataFrame(famille_panda)\n",
        "famille_panda_df"
      ]
    },
    {
      "cell_type": "markdown",
      "metadata": {
        "id": "AB3Qxtqbhjwm"
      },
      "source": [
        "L'objet qui permet de représenter des \"tableaux\" est l'objet <span style=\"color:blue\">DataFrame</span>. \n",
        "Pour instancier un tel objet, on lui transmet une liste de rang 2, c'est à dire une liste de listes.\n",
        "\n",
        "Nous pouvons même faire mieux, en indiquant les noms de colonnes et des lignes. \n",
        "\n",
        "Et encore mieux : la librairie Pandas se base en grande partie sur la librairie Numpy dans son fonctionnement interne. On peut très bien transmettre  à l'objet DataFrame de la donnée au format ndarray :"
      ]
    },
    {
      "cell_type": "code",
      "execution_count": null,
      "metadata": {
        "id": "E_qoRdUvhjwn"
      },
      "outputs": [],
      "source": [
        "famille_panda_df = pd.DataFrame(famille_panda_numpy,\n",
        "                                index = ['maman', 'bebe', 'papa'],\n",
        "                                columns = ['pattes', 'poil', 'queue', 'ventre'])\n",
        "famille_panda_df"
      ]
    },
    {
      "cell_type": "markdown",
      "metadata": {
        "id": "iG41id56hjwn"
      },
      "source": [
        "Le nom des lignes est appelé index. Un index peut être une chaîne de caractères (un label) ou un nombre entier. \n",
        "Quand aucun index n'est spécifié à la création du dataframe, il est initialisé par défaut avec une suite continue d'entiers commençant par 0."
      ]
    },
    {
      "cell_type": "markdown",
      "metadata": {
        "id": "fIMDd8qfhjwo"
      },
      "source": [
        "Quel est l'intérêt de cette librairie  ?\n",
        "\n",
        "L'objet DataFrame est similaire :\n",
        "* aux tables des bases de données relationnelles que l'on manipule grâce au langage SQL\n",
        "* à l'objet dataframe sur lequel se base tout le langage R\n",
        "\n",
        "Du coup, si vous connaissez déjà les langages SQL ou R, vous aurez beaucoup de facilité à utiliser le DataFrame de Pandas !\n",
        "\n",
        "## 3. Quelques fonctionnalités des DataFrames\n",
        "Tout d'abord, accédons à la colonne ventre de notre table. Il y a deux syntaxes possibles, qui renvoient exactement le même résultat :"
      ]
    },
    {
      "cell_type": "code",
      "execution_count": null,
      "metadata": {
        "id": "R9T2cikZhjwo"
      },
      "outputs": [],
      "source": [
        "famille_panda_df.ventre"
      ]
    },
    {
      "cell_type": "code",
      "execution_count": null,
      "metadata": {
        "id": "1fRkcq7khjwp"
      },
      "outputs": [],
      "source": [
        "famille_panda_df[\"ventre\"]"
      ]
    },
    {
      "cell_type": "markdown",
      "metadata": {
        "id": "Z9osHzF8hjwp"
      },
      "source": [
        "\n",
        "<span style=\"color:blue\"> QUESTION : Afficher la longeur des poils des pandas</span>\n",
        "<span style=\"color:red\">XXXXXXXX </span>"
      ]
    },
    {
      "cell_type": "code",
      "execution_count": null,
      "metadata": {
        "id": "DEVGcIXjhjwq"
      },
      "outputs": [],
      "source": []
    },
    {
      "cell_type": "markdown",
      "metadata": {
        "id": "CjHvHPi0hjwq"
      },
      "source": [
        "L'objet que renvoie famille_panda_df[\"ventre\"] est de type <span style=\"color:blue\"> pandas.Series</span>. \n",
        "Pour obtenir les valeurs de la colonne ventre au format numpy, il faut saisir famille_panda_df[\"ventre\"].values\n",
        "\n",
        "Parcourrons maintenant tous les pandas un à un, grâce à la méthode iterrows qui renvoie (à chaque itération de la boucle for) un tuple dont le premier élément est l'index de la ligne, \n",
        " et le second le contenu de la ligne en question :\n"
      ]
    },
    {
      "cell_type": "code",
      "execution_count": null,
      "metadata": {
        "id": "O4y2Yk9ahjwq"
      },
      "outputs": [],
      "source": [
        "for ind_ligne, contenu_ligne in famille_panda_df.iterrows():\n",
        "    print(\"Voici le panda %s :\" % ind_ligne)\n",
        "    print(contenu_ligne)\n",
        "    print(\"--------------------\")"
      ]
    },
    {
      "cell_type": "markdown",
      "metadata": {
        "id": "jQkHeUBShjwr"
      },
      "source": [
        "Accédons maintenant au papa panda : d'abord par sa position (2), puis par son nom \"papa\". \n",
        "Le résultat retourné est exactement le même dans les 2 cas."
      ]
    },
    {
      "cell_type": "code",
      "execution_count": null,
      "metadata": {
        "id": "epbPXoYehjwr"
      },
      "outputs": [],
      "source": [
        "famille_panda_df.iloc[2] # Avec iloc(), indexation positionnelle"
      ]
    },
    {
      "cell_type": "code",
      "execution_count": null,
      "metadata": {
        "id": "ODY8cRKUhjwr"
      },
      "outputs": [],
      "source": [
        "famille_panda_df.loc[\"papa\"] # Avec loc(), indexation par label"
      ]
    },
    {
      "cell_type": "code",
      "execution_count": null,
      "metadata": {
        "id": "uR1rysHnhjws"
      },
      "outputs": [],
      "source": [
        "# Déterminons les pandas dont le diamètre du ventre est de 80cm :\n",
        "famille_panda_df[\"ventre\"] == 80\n",
        "# Ici, on teste chaque élément de la colonne \"ventre\" en demandant s'il est égal à 80. \n",
        "# On obtient la réponse suivante : \"maman\" : True, \"bebe\" : False, \"papa\" : True."
      ]
    },
    {
      "cell_type": "markdown",
      "metadata": {
        "id": "NiEFFhxthjws"
      },
      "source": [
        "Le résultat de cette opération est très pratique pour filtrer des lignes ! \n",
        "Par exemple, pour sélectionner uniquement les pandas dont le ventre est de 80cm,  il suffit d'intégrer ce précédent résultat en tant que masque, comme ceci :\n"
      ]
    },
    {
      "cell_type": "code",
      "execution_count": null,
      "metadata": {
        "id": "3GzzoyrVhjwt"
      },
      "outputs": [],
      "source": [
        "masque = famille_panda_df[\"ventre\"] == 80\n",
        "pandas_80 = famille_panda_df[masque]\n",
        "pandas_80"
      ]
    },
    {
      "cell_type": "markdown",
      "metadata": {
        "id": "WPiDo9wwhjwt"
      },
      "source": [
        "<span style=\"color:blue\"> QUESTION : afficher les informations sur les pandas dont la longueur des poils est supérieure à 4 ?</span>\n",
        "<span style=\"color:red\">XXXXXXXX </span>"
      ]
    },
    {
      "cell_type": "code",
      "execution_count": null,
      "metadata": {
        "id": "WDI5hDdfhjwt"
      },
      "outputs": [],
      "source": []
    },
    {
      "cell_type": "markdown",
      "metadata": {
        "id": "FkLeKv6vhjwu"
      },
      "source": [
        "Pour inverser le masque, il suffit d'utiliser l'opérateur ~, et nous sélectionnons les pandas qui n'ont pas un ventre de 80cm :\n"
      ]
    },
    {
      "cell_type": "code",
      "execution_count": null,
      "metadata": {
        "id": "f8X6C8DLhjwu"
      },
      "outputs": [],
      "source": [
        "famille_panda_df[~masque]"
      ]
    },
    {
      "cell_type": "markdown",
      "metadata": {
        "id": "MrxQt03ihjwu"
      },
      "source": [
        "<span style=\"color:blue\"> QUESTION : afficher les informations sur les pandas dont la longueur des poils est inférieure à 4?</span>\n",
        "<span style=\"color:red\">XXXXXXXX </span>"
      ]
    },
    {
      "cell_type": "code",
      "execution_count": null,
      "metadata": {
        "id": "h2t80hLQhjwv"
      },
      "outputs": [],
      "source": []
    },
    {
      "cell_type": "markdown",
      "metadata": {
        "id": "bixyRuTMhjwv"
      },
      "source": [
        "Maintenant, ajoutons des lignes à notre dataframe. \n",
        "Il y a plusieurs méthodes pour cela, mais voyons ici la plus simple : assemblons ensemble deux dataframes."
      ]
    },
    {
      "cell_type": "code",
      "execution_count": null,
      "metadata": {
        "id": "51VcC8-dhjwv"
      },
      "outputs": [],
      "source": [
        "quelques_pandas = pd.DataFrame([[105,4,19,80],[100,5,20,80]],      # deux nouveaux pandas\n",
        "                               columns = famille_panda_df.columns) \n",
        "                               # même colonnes que famille_panda_df\n",
        "tous_les_pandas = famille_panda_df.append(quelques_pandas)\n",
        "tous_les_pandas"
      ]
    },
    {
      "cell_type": "markdown",
      "metadata": {
        "id": "T7BpKKV8hjww"
      },
      "source": [
        "Dans le dataframe tous_les_pandas, il y a des doublons. \n",
        "Le premier panda (maman) et le dernier  (dont l'index est 1) ont exactement les mêmes mesures. \n",
        "Si nous souhaitions dédoublonner, nous ferions ceci :"
      ]
    },
    {
      "cell_type": "code",
      "execution_count": null,
      "metadata": {
        "id": "Xqb-8skwhjww"
      },
      "outputs": [],
      "source": [
        "tous_les_pandas.drop_duplicates()"
      ]
    },
    {
      "cell_type": "markdown",
      "metadata": {
        "id": "uxh_i_jWhjww"
      },
      "source": [
        "Le résultat de cette ligne ne modifie pas le dataframe  tous_les_pandas  . \n",
        "Il ne fait que renvoyer un autre dataframe. \n",
        "Dans l'état actuel, ce nouveau dataframe est juste affiché et n'est pas enregistré en mémoire :  il sera donc perdu. \n",
        "Pour le garder, on peut\n",
        "* soit l'enregistrer dans une nouvelle variable : pandas_uniques = tous_les_pandas.drop_duplicates()\n",
        "* soit remplacer la variable tous_les_pandas par ce nouveau dataframe dédoublonné :  tous_les_pandas = tous_les_pandas.drop_duplicates()\n",
        "\n",
        "Voici quelques autres fonctionnalités  intéressantes !\n",
        "\n",
        "\n",
        "<span style=\"color:blue\"> QUESTION : Tester les commandes ci-dessous et compléter les commentaires</span> <span style=\"color:red\">XXXXXXXX</span>\n"
      ]
    },
    {
      "cell_type": "code",
      "execution_count": null,
      "metadata": {
        "id": "4sNHHyG8hjwx"
      },
      "outputs": [],
      "source": [
        "# XXXXXXXXXXXXXXXX \n",
        "famille_panda_df.columns"
      ]
    },
    {
      "cell_type": "code",
      "execution_count": null,
      "metadata": {
        "id": "-Qwb1CeShjwx"
      },
      "outputs": [],
      "source": [
        "# XXXXXXXXXXXXXXXX \n",
        "famille_panda_df[\"sexe\"] = [\"f\", \"f\", \"m\"] \n",
        "famille_panda_df"
      ]
    },
    {
      "cell_type": "code",
      "execution_count": null,
      "metadata": {
        "id": "VI4mVFY-hjwy"
      },
      "outputs": [],
      "source": [
        "# XXXXXXXXXXXXXXXX \n",
        "len(famille_panda_df)"
      ]
    },
    {
      "cell_type": "code",
      "execution_count": null,
      "metadata": {
        "id": "dB6vL8MHhjwy"
      },
      "outputs": [],
      "source": [
        "# XXXXXXXXXXXXXXXX \n",
        "famille_panda_df.ventre.unique()"
      ]
    },
    {
      "cell_type": "markdown",
      "metadata": {
        "id": "iSuWrjZMhjwy"
      },
      "source": [
        "## 4. Lire un fichier CSV avec Pandas\n",
        "\n",
        "Un fichier CSV (comma separated values), est un fichier permettant de représenter des données  sous forme de tableau lu par les logiciels tableur\n",
        "\n",
        "La librairie Pandas est justement spécialisée dans la manipulation de tableaux ! \n",
        " il ne suffit que d'une ligne pour créer un dataframe à partir d'un CSV :\n"
      ]
    },
    {
      "cell_type": "code",
      "source": [
        "from google.colab import drive\n",
        "drive.mount('/content/drive')\n",
        "pandas_file = '/content/drive/MyDrive/Colab Notebooks/M1-gestiondeprojet/M1-GestionProjet/pandas.csv'\n"
      ],
      "metadata": {
        "colab": {
          "base_uri": "https://localhost:8080/"
        },
        "id": "AEfe-lHGhrhc",
        "outputId": "d529bdbb-3506-4f37-c866-831a15bc4f04"
      },
      "execution_count": 1,
      "outputs": [
        {
          "output_type": "stream",
          "name": "stdout",
          "text": [
            "Mounted at /content/drive\n"
          ]
        }
      ]
    },
    {
      "cell_type": "code",
      "source": [
        "print('réussir à sync')"
      ],
      "metadata": {
        "colab": {
          "base_uri": "https://localhost:8080/"
        },
        "id": "6Hzo4vw3wl00",
        "outputId": "99f8afc6-2bed-4aa8-9d5a-f9136654735e"
      },
      "execution_count": 2,
      "outputs": [
        {
          "output_type": "stream",
          "name": "stdout",
          "text": [
            "réussir à sync\n"
          ]
        }
      ]
    },
    {
      "cell_type": "code",
      "execution_count": null,
      "metadata": {
        "colab": {
          "base_uri": "https://localhost:8080/",
          "height": 143
        },
        "id": "Oj9vYJkzhjwz",
        "outputId": "1fc15101-3dfd-4819-830b-36177d728fc1"
      },
      "outputs": [
        {
          "output_type": "execute_result",
          "data": {
            "text/plain": [
              "  Unnamed: 0  pattes  poil  queue  ventre sexe\n",
              "0      maman   100.0   5.0   20.0    80.0    f\n",
              "1       bebe    50.0   2.5   10.0    40.0    f\n",
              "2       papa   110.0   6.0   22.0    80.0    m"
            ],
            "text/html": [
              "\n",
              "  <div id=\"df-5b43bcb6-2f8a-4ef1-89bd-915480c93578\">\n",
              "    <div class=\"colab-df-container\">\n",
              "      <div>\n",
              "<style scoped>\n",
              "    .dataframe tbody tr th:only-of-type {\n",
              "        vertical-align: middle;\n",
              "    }\n",
              "\n",
              "    .dataframe tbody tr th {\n",
              "        vertical-align: top;\n",
              "    }\n",
              "\n",
              "    .dataframe thead th {\n",
              "        text-align: right;\n",
              "    }\n",
              "</style>\n",
              "<table border=\"1\" class=\"dataframe\">\n",
              "  <thead>\n",
              "    <tr style=\"text-align: right;\">\n",
              "      <th></th>\n",
              "      <th>Unnamed: 0</th>\n",
              "      <th>pattes</th>\n",
              "      <th>poil</th>\n",
              "      <th>queue</th>\n",
              "      <th>ventre</th>\n",
              "      <th>sexe</th>\n",
              "    </tr>\n",
              "  </thead>\n",
              "  <tbody>\n",
              "    <tr>\n",
              "      <th>0</th>\n",
              "      <td>maman</td>\n",
              "      <td>100.0</td>\n",
              "      <td>5.0</td>\n",
              "      <td>20.0</td>\n",
              "      <td>80.0</td>\n",
              "      <td>f</td>\n",
              "    </tr>\n",
              "    <tr>\n",
              "      <th>1</th>\n",
              "      <td>bebe</td>\n",
              "      <td>50.0</td>\n",
              "      <td>2.5</td>\n",
              "      <td>10.0</td>\n",
              "      <td>40.0</td>\n",
              "      <td>f</td>\n",
              "    </tr>\n",
              "    <tr>\n",
              "      <th>2</th>\n",
              "      <td>papa</td>\n",
              "      <td>110.0</td>\n",
              "      <td>6.0</td>\n",
              "      <td>22.0</td>\n",
              "      <td>80.0</td>\n",
              "      <td>m</td>\n",
              "    </tr>\n",
              "  </tbody>\n",
              "</table>\n",
              "</div>\n",
              "      <button class=\"colab-df-convert\" onclick=\"convertToInteractive('df-5b43bcb6-2f8a-4ef1-89bd-915480c93578')\"\n",
              "              title=\"Convert this dataframe to an interactive table.\"\n",
              "              style=\"display:none;\">\n",
              "        \n",
              "  <svg xmlns=\"http://www.w3.org/2000/svg\" height=\"24px\"viewBox=\"0 0 24 24\"\n",
              "       width=\"24px\">\n",
              "    <path d=\"M0 0h24v24H0V0z\" fill=\"none\"/>\n",
              "    <path d=\"M18.56 5.44l.94 2.06.94-2.06 2.06-.94-2.06-.94-.94-2.06-.94 2.06-2.06.94zm-11 1L8.5 8.5l.94-2.06 2.06-.94-2.06-.94L8.5 2.5l-.94 2.06-2.06.94zm10 10l.94 2.06.94-2.06 2.06-.94-2.06-.94-.94-2.06-.94 2.06-2.06.94z\"/><path d=\"M17.41 7.96l-1.37-1.37c-.4-.4-.92-.59-1.43-.59-.52 0-1.04.2-1.43.59L10.3 9.45l-7.72 7.72c-.78.78-.78 2.05 0 2.83L4 21.41c.39.39.9.59 1.41.59.51 0 1.02-.2 1.41-.59l7.78-7.78 2.81-2.81c.8-.78.8-2.07 0-2.86zM5.41 20L4 18.59l7.72-7.72 1.47 1.35L5.41 20z\"/>\n",
              "  </svg>\n",
              "      </button>\n",
              "      \n",
              "  <style>\n",
              "    .colab-df-container {\n",
              "      display:flex;\n",
              "      flex-wrap:wrap;\n",
              "      gap: 12px;\n",
              "    }\n",
              "\n",
              "    .colab-df-convert {\n",
              "      background-color: #E8F0FE;\n",
              "      border: none;\n",
              "      border-radius: 50%;\n",
              "      cursor: pointer;\n",
              "      display: none;\n",
              "      fill: #1967D2;\n",
              "      height: 32px;\n",
              "      padding: 0 0 0 0;\n",
              "      width: 32px;\n",
              "    }\n",
              "\n",
              "    .colab-df-convert:hover {\n",
              "      background-color: #E2EBFA;\n",
              "      box-shadow: 0px 1px 2px rgba(60, 64, 67, 0.3), 0px 1px 3px 1px rgba(60, 64, 67, 0.15);\n",
              "      fill: #174EA6;\n",
              "    }\n",
              "\n",
              "    [theme=dark] .colab-df-convert {\n",
              "      background-color: #3B4455;\n",
              "      fill: #D2E3FC;\n",
              "    }\n",
              "\n",
              "    [theme=dark] .colab-df-convert:hover {\n",
              "      background-color: #434B5C;\n",
              "      box-shadow: 0px 1px 3px 1px rgba(0, 0, 0, 0.15);\n",
              "      filter: drop-shadow(0px 1px 2px rgba(0, 0, 0, 0.3));\n",
              "      fill: #FFFFFF;\n",
              "    }\n",
              "  </style>\n",
              "\n",
              "      <script>\n",
              "        const buttonEl =\n",
              "          document.querySelector('#df-5b43bcb6-2f8a-4ef1-89bd-915480c93578 button.colab-df-convert');\n",
              "        buttonEl.style.display =\n",
              "          google.colab.kernel.accessAllowed ? 'block' : 'none';\n",
              "\n",
              "        async function convertToInteractive(key) {\n",
              "          const element = document.querySelector('#df-5b43bcb6-2f8a-4ef1-89bd-915480c93578');\n",
              "          const dataTable =\n",
              "            await google.colab.kernel.invokeFunction('convertToInteractive',\n",
              "                                                     [key], {});\n",
              "          if (!dataTable) return;\n",
              "\n",
              "          const docLinkHtml = 'Like what you see? Visit the ' +\n",
              "            '<a target=\"_blank\" href=https://colab.research.google.com/notebooks/data_table.ipynb>data table notebook</a>'\n",
              "            + ' to learn more about interactive tables.';\n",
              "          element.innerHTML = '';\n",
              "          dataTable['output_type'] = 'display_data';\n",
              "          await google.colab.output.renderOutput(dataTable, element);\n",
              "          const docLink = document.createElement('div');\n",
              "          docLink.innerHTML = docLinkHtml;\n",
              "          element.appendChild(docLink);\n",
              "        }\n",
              "      </script>\n",
              "    </div>\n",
              "  </div>\n",
              "  "
            ]
          },
          "metadata": {},
          "execution_count": 4
        }
      ],
      "source": [
        "import pandas as pd\n",
        "data = pd.read_csv(pandas_file, sep=\";\")\n",
        "data.head()"
      ]
    },
    {
      "cell_type": "markdown",
      "metadata": {
        "id": "5Nqba-2_hjwz"
      },
      "source": [
        "Mettre pandas.csv en premier argument de read_csv suppose que le fichier data.csv se trouve dans le répertoire  courant. Si vous ne le connaissez pas, vous pouvez saisir ceci :"
      ]
    },
    {
      "cell_type": "code",
      "execution_count": null,
      "metadata": {
        "id": "8TNHVRpzhjwz"
      },
      "outputs": [],
      "source": [
        "import os\n",
        "os.getcwd()"
      ]
    },
    {
      "cell_type": "markdown",
      "metadata": {
        "id": "1yyFjjx7hjw0"
      },
      "source": [
        "Pour lire un fichier qui ne se trouve pas dans le répertoire courrant, utilisez une syntaxe de cette forme :  \n",
        " _\"/home/user1/Bureau/data.csv\"_\n",
        " \n",
        "La variable data contient maintenant un dataframe correspondant aux données du fichier csv.\n",
        "\n",
        "<span style=\"color:blue\"> QUESTION : à quoi correspond l'argument sep ?</span>\n",
        "<span style=\"color:red\"> XXXXXXXXX </span>\n"
      ]
    },
    {
      "cell_type": "markdown",
      "metadata": {
        "id": "UDmA2SEKhjw0"
      },
      "source": [
        "## 5. Explorons les données du Titanic\n",
        "\n",
        "### 5.1 Premières informations\n",
        "\n",
        "\n",
        "Maintenant que vous savez comment créer un DataFrame, intéressons à d'autres opérations usuelles sur les données. \n",
        "Nous allons utiliser un DataSet disponible dans la librairie Seaborn correspondant aux données \n",
        " sur les survivants du naufrage du Titanic "
      ]
    },
    {
      "cell_type": "code",
      "execution_count": null,
      "metadata": {
        "id": "woXQ6Xiyhjw1"
      },
      "outputs": [],
      "source": [
        "import numpy as np\n",
        "import pandas as pd\n",
        "import seaborn as sns\n",
        "titanic = sns.load_dataset('titanic')"
      ]
    },
    {
      "cell_type": "code",
      "execution_count": null,
      "metadata": {
        "id": "JUqN6bJ3hjw1"
      },
      "outputs": [],
      "source": [
        "# La première chose à faire est de jeter un rapide coup d'oeil à nos données.\n",
        "titanic.head()"
      ]
    },
    {
      "cell_type": "markdown",
      "metadata": {
        "id": "XoFhsYf8hjw1"
      },
      "source": [
        "<span style=\"color:blue\"> QUESTION : A votre avis, à quoi correspond la fonction tail ? Testez la !\n",
        "</span>\n",
        "<span style=\"color:red\"> XXXXXXXX</span>\n",
        "\n"
      ]
    },
    {
      "cell_type": "code",
      "execution_count": null,
      "metadata": {
        "id": "JwDpcEDyhjw2"
      },
      "outputs": [],
      "source": []
    },
    {
      "cell_type": "markdown",
      "metadata": {
        "id": "DbA98kw1hjw2"
      },
      "source": [
        "Examinons la colonne des âges. \n",
        "La fonction unique renvoie les valeurs uniques présentes dans une structure de données Pandas."
      ]
    },
    {
      "cell_type": "code",
      "execution_count": null,
      "metadata": {
        "id": "fjmaJXIghjw2"
      },
      "outputs": [],
      "source": [
        "titanic.age.unique()"
      ]
    },
    {
      "cell_type": "markdown",
      "metadata": {
        "id": "Uy0SS1NZhjw2"
      },
      "source": [
        "<span style=\"color:blue\"> QUESTION : Qu'en pensez vous ?</span>\n",
        "<span style=\"color:red\"> XXXXXXXX</span>\n",
        "\n"
      ]
    },
    {
      "cell_type": "markdown",
      "metadata": {
        "id": "oDpMe9RXhjw3"
      },
      "source": [
        "<span style=\"color:blue\"> QUESTION : Tester la fonction   describe. A quoi sert elle ? </span>\n",
        "<span style=\"color:red\"> XXXXXXXX </span>\n"
      ]
    },
    {
      "cell_type": "code",
      "execution_count": null,
      "metadata": {
        "id": "H7jX4yGdhjw3"
      },
      "outputs": [],
      "source": []
    },
    {
      "cell_type": "markdown",
      "metadata": {
        "id": "E9uHU0Mfhjw3"
      },
      "source": [
        "\n",
        "### 5.2 Gérer les données manquantes\n",
        "\n",
        "Vous aurez remarqué, dans la sortie de la fonction  describe la présence de valeurs  NaN. \n",
        "C'est une valeur définie pour représenter quelque chose qui n'est pas un nombre (Not a Number) alors que son type l'exige. \n",
        "\n",
        "Plus généralement, le résultat de toute opération impliquant une NaN est à son tour un NaN. \n",
        "\n",
        "Nous allons  voir deux opérations à appliquer aux valeurs manquantes NaN.\n"
      ]
    },
    {
      "cell_type": "code",
      "execution_count": null,
      "metadata": {
        "id": "C-VlCEUJhjw4"
      },
      "outputs": [],
      "source": [
        "titanic.age.head(10)"
      ]
    },
    {
      "cell_type": "markdown",
      "metadata": {
        "id": "eA8gqIC8hjw4"
      },
      "source": [
        "<span style=\"color:blue\"> QUESTION : Quel effet, la fonction ci-dessous a t'elle sur  les valeurs manquantes.\n",
        "</span>\n"
      ]
    },
    {
      "cell_type": "code",
      "execution_count": null,
      "metadata": {
        "id": "y08x0ip4hjw4"
      },
      "outputs": [],
      "source": [
        "titanic.fillna(value={\"age\": 0}).age.head(10)"
      ]
    },
    {
      "cell_type": "markdown",
      "metadata": {
        "id": "0GND_yQhhjw4"
      },
      "source": [
        "<span style=\"color:red\"> XXXXXXXXX  </span>"
      ]
    },
    {
      "cell_type": "markdown",
      "metadata": {
        "id": "twp6fHIfhjw5"
      },
      "source": [
        "<span style=\"color:blue\"> QUESTION : Quel effet, la fonction ci-dessous a t'elle sur  les valeurs manquantes.\n",
        "</span>\n"
      ]
    },
    {
      "cell_type": "code",
      "execution_count": null,
      "metadata": {
        "id": "fAE3ZslNhjw5"
      },
      "outputs": [],
      "source": [
        "titanic.fillna(method=\"pad\").age.head(10)\n"
      ]
    },
    {
      "cell_type": "markdown",
      "metadata": {
        "id": "y4EB-Ge8hjw6"
      },
      "source": [
        "<span style=\"color:red\"> XXXXXXXXX  </span>"
      ]
    },
    {
      "cell_type": "markdown",
      "metadata": {
        "id": "mxle9hp3hjw6"
      },
      "source": [
        "<span style=\"color:blue\"> QUESTION : Quel effet, la fonction ci-dessous a t'elle sur  les valeurs manquantes.\n",
        "</span>\n"
      ]
    },
    {
      "cell_type": "code",
      "execution_count": null,
      "metadata": {
        "id": "AR2-k2lQhjw6"
      },
      "outputs": [],
      "source": [
        "titanic.dropna().head(10)\n"
      ]
    },
    {
      "cell_type": "markdown",
      "metadata": {
        "id": "nNpn68Ouhjw7"
      },
      "source": [
        "<span style=\"color:red\"> XXXXXXXXX  </span>"
      ]
    },
    {
      "cell_type": "markdown",
      "metadata": {
        "id": "TXrSElvrhjw7"
      },
      "source": [
        "<span style=\"color:blue\"> QUESTION : Quel effet, la fonction ci-dessous a t'elle sur  les valeurs manquantes.\n",
        "</span>\n"
      ]
    },
    {
      "cell_type": "code",
      "execution_count": null,
      "metadata": {
        "id": "uCikpzTphjw7"
      },
      "outputs": [],
      "source": [
        "titanic.dropna(axis=\"columns\").head()\n"
      ]
    },
    {
      "cell_type": "markdown",
      "metadata": {
        "id": "MZdUG7Cghjw8"
      },
      "source": [
        "<span style=\"color:red\"> XXXXXXXXX  </span>\n"
      ]
    },
    {
      "cell_type": "markdown",
      "metadata": {
        "id": "vIvGzVgkhjw8"
      },
      "source": [
        "### 5.3  Explorons d'autres fonctions\n",
        "\n",
        "<span style=\"color:blue\"> QUESTION : A quoi sert la fonction ci-dessous ?\n",
        "</span>\n"
      ]
    },
    {
      "cell_type": "code",
      "execution_count": null,
      "metadata": {
        "id": "ySjEUUvyhjw8"
      },
      "outputs": [],
      "source": [
        "titanic.rename(columns={\"sex\":\"sexe\"})"
      ]
    },
    {
      "cell_type": "markdown",
      "metadata": {
        "id": "Ts2jfvAHhjw8"
      },
      "source": [
        "<span style=\"color:red\"> XXXXXXXXXXXX  </span>\n"
      ]
    },
    {
      "cell_type": "markdown",
      "metadata": {
        "id": "zlcwwiZthjw9"
      },
      "source": [
        "La fonction  drop  permet de supprimer des axes (colonnes ou lignes) d'un DataFrame. \n"
      ]
    },
    {
      "cell_type": "code",
      "execution_count": null,
      "metadata": {
        "id": "2SrygjPchjw9"
      },
      "outputs": [],
      "source": [
        "titanic.drop(0)\n",
        "# Supprimera la ligne dont l'index est égal à 0."
      ]
    },
    {
      "cell_type": "markdown",
      "metadata": {
        "id": "tFWgYTrchjw9"
      },
      "source": [
        "<span style=\"color:blue\">QUESTION : Supprimer la colonne \"age\"</span>\n",
        "<span style=\"color:red\"> XXXXXXXXXXXXX </span>\n",
        "\n"
      ]
    },
    {
      "cell_type": "code",
      "execution_count": null,
      "metadata": {
        "id": "6ctfaSuWhjw-"
      },
      "outputs": [],
      "source": []
    },
    {
      "cell_type": "markdown",
      "metadata": {
        "id": "MCgqtPZnhjw-"
      },
      "source": [
        "_IMPORTANT :_ De nombreuses fonctions Pandas, acceptent l'argument  \"inplace\".  \n",
        "Si la valeur de cet argument est  True, le DataFrame donné en argument est modifié. \n",
        "Sinon, une copie du DataFrame est retournée par la fonction."
      ]
    },
    {
      "cell_type": "markdown",
      "metadata": {
        "id": "XCTJMb5Lhjw-"
      },
      "source": [
        "## 6. Tableaux croisés dynamiques\n",
        "\n",
        "Ces tableaux sont utilisés dans des logiciels tableurs.\n",
        "Ces tableaux permettent de synthétiser les données contenues dans un DataFrame. \n",
        "\n",
        "<span style=\"color:blue\">QUESTION : A quoi sert la fonction pivot_table ?</span>\n",
        "\n"
      ]
    },
    {
      "cell_type": "code",
      "execution_count": null,
      "metadata": {
        "id": "zomCCcr7hjw-"
      },
      "outputs": [],
      "source": [
        "titanic.pivot_table('survived', index='sex', columns='class')"
      ]
    },
    {
      "cell_type": "markdown",
      "metadata": {
        "id": "peCDvth1hjw_"
      },
      "source": [
        "<span style=\"color:red\">XXXXX </span>\n",
        "\n"
      ]
    },
    {
      "cell_type": "markdown",
      "metadata": {
        "id": "y5jRFMbehjw_"
      },
      "source": [
        "<span style=\"color:blue\">QUESTION : Quelle est le nombre total de survivants selon le sexe et le type du billet ? \n",
        "Modifier la fonction précédente selon l'argument aggfunc=\"sum\"</span>\n",
        "\n",
        "\n"
      ]
    },
    {
      "cell_type": "markdown",
      "metadata": {
        "id": "IHfTDv5Phjw_"
      },
      "source": [
        "<span style=\"color:red\">XXXXX </span>"
      ]
    },
    {
      "cell_type": "markdown",
      "metadata": {
        "id": "BjLiok4rhjxA"
      },
      "source": [
        "<span style=\"color:blue\">QUESTION : comment interprétez vous le code ci-dessous ?</span>\n",
        "\n",
        "\n"
      ]
    },
    {
      "cell_type": "code",
      "execution_count": null,
      "metadata": {
        "id": "U6tRwKmzhjxA"
      },
      "outputs": [],
      "source": [
        "titanic.dropna(inplace=True)\n",
        "age = pd.cut(titanic['age'], [0, 18, 80])\n",
        "titanic.pivot_table('survived', ['sex', age], 'class')"
      ]
    },
    {
      "cell_type": "markdown",
      "metadata": {
        "id": "VpErJoKFhjxA"
      },
      "source": [
        "<span style=\"color:red\">XXXXX </span>"
      ]
    },
    {
      "cell_type": "markdown",
      "metadata": {
        "id": "BerwCUCJhjxA"
      },
      "source": [
        "Affichons l'histogramme des âges"
      ]
    },
    {
      "cell_type": "code",
      "execution_count": null,
      "metadata": {
        "id": "kvhDeRXqhjxB"
      },
      "outputs": [],
      "source": [
        "import matplotlib.pyplot as plt\n",
        "# Plot 'Age' variable in a histogram\n",
        "#pd.DataFrame.hist(data[[\"Age\"]])\n",
        "titanic.head()\n",
        "pd.DataFrame.hist(titanic[[\"age\"]])\n",
        "plt.xlabel('Age (years)')\n",
        "plt.ylabel('count')\n",
        "plt.show()"
      ]
    },
    {
      "cell_type": "markdown",
      "metadata": {
        "id": "W1UOxjoPhjxB"
      },
      "source": [
        "<span style=\"color:blue\">QUESTION : Afficher l'histogramme des tarifs\n",
        "</span>"
      ]
    },
    {
      "cell_type": "code",
      "execution_count": null,
      "metadata": {
        "id": "ITeNws3PhjxB"
      },
      "outputs": [],
      "source": []
    }
  ],
  "metadata": {
    "kernelspec": {
      "display_name": "Python 3",
      "language": "python",
      "name": "python3"
    },
    "language_info": {
      "codemirror_mode": {
        "name": "ipython",
        "version": 3
      },
      "file_extension": ".py",
      "mimetype": "text/x-python",
      "name": "python",
      "nbconvert_exporter": "python",
      "pygments_lexer": "ipython3",
      "version": "3.8.8"
    },
    "colab": {
      "provenance": [],
      "collapsed_sections": [
        "fIMDd8qfhjwo",
        "UDmA2SEKhjw0",
        "E9uHU0Mfhjw3",
        "vIvGzVgkhjw8",
        "XCTJMb5Lhjw-"
      ],
      "include_colab_link": true
    }
  },
  "nbformat": 4,
  "nbformat_minor": 0
}